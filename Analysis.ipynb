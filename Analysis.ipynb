{
 "cells": [
  {
   "cell_type": "markdown",
   "id": "72a0e26a",
   "metadata": {},
   "source": [
    "# Analysis of Gen 2 DVs"
   ]
  },
  {
   "cell_type": "markdown",
   "id": "847d5036",
   "metadata": {},
   "source": [
    "## Imports"
   ]
  },
  {
   "cell_type": "code",
   "execution_count": 1,
   "id": "a1e11aeb",
   "metadata": {},
   "outputs": [],
   "source": [
    "from main import get_data_base, genders_male_th\n",
    "\n",
    "import numpy as np\n",
    "import matplotlib.pyplot as plt\n",
    "import pandas as pd\n",
    "\n",
    "from functools import partial"
   ]
  },
  {
   "cell_type": "markdown",
   "id": "50804dc4",
   "metadata": {},
   "source": [
    "## Loading DB"
   ]
  },
  {
   "cell_type": "code",
   "execution_count": 2,
   "id": "b34d6475",
   "metadata": {},
   "outputs": [],
   "source": [
    "table = get_data_base()"
   ]
  },
  {
   "cell_type": "code",
   "execution_count": 3,
   "id": "8fb4da00",
   "metadata": {},
   "outputs": [
    {
     "data": {
      "text/html": [
       "<div>\n",
       "<style scoped>\n",
       "    .dataframe tbody tr th:only-of-type {\n",
       "        vertical-align: middle;\n",
       "    }\n",
       "\n",
       "    .dataframe tbody tr th {\n",
       "        vertical-align: top;\n",
       "    }\n",
       "\n",
       "    .dataframe thead th {\n",
       "        text-align: right;\n",
       "    }\n",
       "</style>\n",
       "<table border=\"1\" class=\"dataframe\">\n",
       "  <thead>\n",
       "    <tr style=\"text-align: right;\">\n",
       "      <th></th>\n",
       "      <th>DVs</th>\n",
       "      <th>Attackb</th>\n",
       "      <th>Defenseb</th>\n",
       "      <th>Speedb</th>\n",
       "      <th>Specialb</th>\n",
       "      <th>Attack</th>\n",
       "      <th>Defense</th>\n",
       "      <th>Speed</th>\n",
       "      <th>Special</th>\n",
       "      <th>HPb</th>\n",
       "      <th>...</th>\n",
       "      <th>Y</th>\n",
       "      <th>HP_BP</th>\n",
       "      <th>HP_Type</th>\n",
       "      <th>Shiny</th>\n",
       "      <th>0:1</th>\n",
       "      <th>1:7</th>\n",
       "      <th>1:3</th>\n",
       "      <th>1:1</th>\n",
       "      <th>3:1</th>\n",
       "      <th>1:0</th>\n",
       "    </tr>\n",
       "  </thead>\n",
       "  <tbody>\n",
       "    <tr>\n",
       "      <th>0</th>\n",
       "      <td>0</td>\n",
       "      <td>0</td>\n",
       "      <td>0</td>\n",
       "      <td>0</td>\n",
       "      <td>0</td>\n",
       "      <td>0</td>\n",
       "      <td>0</td>\n",
       "      <td>0</td>\n",
       "      <td>0</td>\n",
       "      <td>0</td>\n",
       "      <td>...</td>\n",
       "      <td>0</td>\n",
       "      <td>31</td>\n",
       "      <td>Fighting</td>\n",
       "      <td>False</td>\n",
       "      <td>♂</td>\n",
       "      <td>♀</td>\n",
       "      <td>♀</td>\n",
       "      <td>♀</td>\n",
       "      <td>♀</td>\n",
       "      <td>♀</td>\n",
       "    </tr>\n",
       "    <tr>\n",
       "      <th>1</th>\n",
       "      <td>1</td>\n",
       "      <td>0</td>\n",
       "      <td>0</td>\n",
       "      <td>0</td>\n",
       "      <td>1</td>\n",
       "      <td>0</td>\n",
       "      <td>0</td>\n",
       "      <td>0</td>\n",
       "      <td>1</td>\n",
       "      <td>1</td>\n",
       "      <td>...</td>\n",
       "      <td>1</td>\n",
       "      <td>31</td>\n",
       "      <td>Fighting</td>\n",
       "      <td>False</td>\n",
       "      <td>♂</td>\n",
       "      <td>♀</td>\n",
       "      <td>♀</td>\n",
       "      <td>♀</td>\n",
       "      <td>♀</td>\n",
       "      <td>♀</td>\n",
       "    </tr>\n",
       "    <tr>\n",
       "      <th>2</th>\n",
       "      <td>10</td>\n",
       "      <td>0</td>\n",
       "      <td>0</td>\n",
       "      <td>0</td>\n",
       "      <td>10</td>\n",
       "      <td>0</td>\n",
       "      <td>0</td>\n",
       "      <td>0</td>\n",
       "      <td>2</td>\n",
       "      <td>0</td>\n",
       "      <td>...</td>\n",
       "      <td>2</td>\n",
       "      <td>32</td>\n",
       "      <td>Fighting</td>\n",
       "      <td>False</td>\n",
       "      <td>♂</td>\n",
       "      <td>♀</td>\n",
       "      <td>♀</td>\n",
       "      <td>♀</td>\n",
       "      <td>♀</td>\n",
       "      <td>♀</td>\n",
       "    </tr>\n",
       "    <tr>\n",
       "      <th>3</th>\n",
       "      <td>11</td>\n",
       "      <td>0</td>\n",
       "      <td>0</td>\n",
       "      <td>0</td>\n",
       "      <td>11</td>\n",
       "      <td>0</td>\n",
       "      <td>0</td>\n",
       "      <td>0</td>\n",
       "      <td>3</td>\n",
       "      <td>1</td>\n",
       "      <td>...</td>\n",
       "      <td>3</td>\n",
       "      <td>32</td>\n",
       "      <td>Fighting</td>\n",
       "      <td>False</td>\n",
       "      <td>♂</td>\n",
       "      <td>♀</td>\n",
       "      <td>♀</td>\n",
       "      <td>♀</td>\n",
       "      <td>♀</td>\n",
       "      <td>♀</td>\n",
       "    </tr>\n",
       "    <tr>\n",
       "      <th>4</th>\n",
       "      <td>100</td>\n",
       "      <td>0</td>\n",
       "      <td>0</td>\n",
       "      <td>0</td>\n",
       "      <td>100</td>\n",
       "      <td>0</td>\n",
       "      <td>0</td>\n",
       "      <td>0</td>\n",
       "      <td>4</td>\n",
       "      <td>0</td>\n",
       "      <td>...</td>\n",
       "      <td>3</td>\n",
       "      <td>32</td>\n",
       "      <td>Fighting</td>\n",
       "      <td>False</td>\n",
       "      <td>♂</td>\n",
       "      <td>♀</td>\n",
       "      <td>♀</td>\n",
       "      <td>♀</td>\n",
       "      <td>♀</td>\n",
       "      <td>♀</td>\n",
       "    </tr>\n",
       "    <tr>\n",
       "      <th>...</th>\n",
       "      <td>...</td>\n",
       "      <td>...</td>\n",
       "      <td>...</td>\n",
       "      <td>...</td>\n",
       "      <td>...</td>\n",
       "      <td>...</td>\n",
       "      <td>...</td>\n",
       "      <td>...</td>\n",
       "      <td>...</td>\n",
       "      <td>...</td>\n",
       "      <td>...</td>\n",
       "      <td>...</td>\n",
       "      <td>...</td>\n",
       "      <td>...</td>\n",
       "      <td>...</td>\n",
       "      <td>...</td>\n",
       "      <td>...</td>\n",
       "      <td>...</td>\n",
       "      <td>...</td>\n",
       "      <td>...</td>\n",
       "      <td>...</td>\n",
       "    </tr>\n",
       "    <tr>\n",
       "      <th>65531</th>\n",
       "      <td>1111111111111011</td>\n",
       "      <td>1111</td>\n",
       "      <td>1111</td>\n",
       "      <td>1111</td>\n",
       "      <td>1011</td>\n",
       "      <td>15</td>\n",
       "      <td>15</td>\n",
       "      <td>15</td>\n",
       "      <td>11</td>\n",
       "      <td>1111</td>\n",
       "      <td>...</td>\n",
       "      <td>3</td>\n",
       "      <td>70</td>\n",
       "      <td>Dark</td>\n",
       "      <td>False</td>\n",
       "      <td>♂</td>\n",
       "      <td>♂</td>\n",
       "      <td>♂</td>\n",
       "      <td>♂</td>\n",
       "      <td>♂</td>\n",
       "      <td>♀</td>\n",
       "    </tr>\n",
       "    <tr>\n",
       "      <th>65532</th>\n",
       "      <td>1111111111111100</td>\n",
       "      <td>1111</td>\n",
       "      <td>1111</td>\n",
       "      <td>1111</td>\n",
       "      <td>1100</td>\n",
       "      <td>15</td>\n",
       "      <td>15</td>\n",
       "      <td>15</td>\n",
       "      <td>12</td>\n",
       "      <td>1110</td>\n",
       "      <td>...</td>\n",
       "      <td>3</td>\n",
       "      <td>70</td>\n",
       "      <td>Dark</td>\n",
       "      <td>False</td>\n",
       "      <td>♂</td>\n",
       "      <td>♂</td>\n",
       "      <td>♂</td>\n",
       "      <td>♂</td>\n",
       "      <td>♂</td>\n",
       "      <td>♀</td>\n",
       "    </tr>\n",
       "    <tr>\n",
       "      <th>65533</th>\n",
       "      <td>1111111111111101</td>\n",
       "      <td>1111</td>\n",
       "      <td>1111</td>\n",
       "      <td>1111</td>\n",
       "      <td>1101</td>\n",
       "      <td>15</td>\n",
       "      <td>15</td>\n",
       "      <td>15</td>\n",
       "      <td>13</td>\n",
       "      <td>1111</td>\n",
       "      <td>...</td>\n",
       "      <td>3</td>\n",
       "      <td>70</td>\n",
       "      <td>Dark</td>\n",
       "      <td>False</td>\n",
       "      <td>♂</td>\n",
       "      <td>♂</td>\n",
       "      <td>♂</td>\n",
       "      <td>♂</td>\n",
       "      <td>♂</td>\n",
       "      <td>♀</td>\n",
       "    </tr>\n",
       "    <tr>\n",
       "      <th>65534</th>\n",
       "      <td>1111111111111110</td>\n",
       "      <td>1111</td>\n",
       "      <td>1111</td>\n",
       "      <td>1111</td>\n",
       "      <td>1110</td>\n",
       "      <td>15</td>\n",
       "      <td>15</td>\n",
       "      <td>15</td>\n",
       "      <td>14</td>\n",
       "      <td>1110</td>\n",
       "      <td>...</td>\n",
       "      <td>3</td>\n",
       "      <td>70</td>\n",
       "      <td>Dark</td>\n",
       "      <td>False</td>\n",
       "      <td>♂</td>\n",
       "      <td>♂</td>\n",
       "      <td>♂</td>\n",
       "      <td>♂</td>\n",
       "      <td>♂</td>\n",
       "      <td>♀</td>\n",
       "    </tr>\n",
       "    <tr>\n",
       "      <th>65535</th>\n",
       "      <td>1111111111111111</td>\n",
       "      <td>1111</td>\n",
       "      <td>1111</td>\n",
       "      <td>1111</td>\n",
       "      <td>1111</td>\n",
       "      <td>15</td>\n",
       "      <td>15</td>\n",
       "      <td>15</td>\n",
       "      <td>15</td>\n",
       "      <td>1111</td>\n",
       "      <td>...</td>\n",
       "      <td>3</td>\n",
       "      <td>70</td>\n",
       "      <td>Dark</td>\n",
       "      <td>False</td>\n",
       "      <td>♂</td>\n",
       "      <td>♂</td>\n",
       "      <td>♂</td>\n",
       "      <td>♂</td>\n",
       "      <td>♂</td>\n",
       "      <td>♀</td>\n",
       "    </tr>\n",
       "  </tbody>\n",
       "</table>\n",
       "<p>65536 rows × 23 columns</p>\n",
       "</div>"
      ],
      "text/plain": [
       "                    DVs  Attackb  Defenseb  Speedb  Specialb  Attack  Defense  \\\n",
       "0                     0        0         0       0         0       0        0   \n",
       "1                     1        0         0       0         1       0        0   \n",
       "2                    10        0         0       0        10       0        0   \n",
       "3                    11        0         0       0        11       0        0   \n",
       "4                   100        0         0       0       100       0        0   \n",
       "...                 ...      ...       ...     ...       ...     ...      ...   \n",
       "65531  1111111111111011     1111      1111    1111      1011      15       15   \n",
       "65532  1111111111111100     1111      1111    1111      1100      15       15   \n",
       "65533  1111111111111101     1111      1111    1111      1101      15       15   \n",
       "65534  1111111111111110     1111      1111    1111      1110      15       15   \n",
       "65535  1111111111111111     1111      1111    1111      1111      15       15   \n",
       "\n",
       "       Speed  Special   HPb  ...  Y HP_BP   HP_Type  Shiny  0:1 1:7  1:3 1:1  \\\n",
       "0          0        0     0  ...  0    31  Fighting  False    ♂   ♀    ♀   ♀   \n",
       "1          0        1     1  ...  1    31  Fighting  False    ♂   ♀    ♀   ♀   \n",
       "2          0        2     0  ...  2    32  Fighting  False    ♂   ♀    ♀   ♀   \n",
       "3          0        3     1  ...  3    32  Fighting  False    ♂   ♀    ♀   ♀   \n",
       "4          0        4     0  ...  3    32  Fighting  False    ♂   ♀    ♀   ♀   \n",
       "...      ...      ...   ...  ... ..   ...       ...    ...  ...  ..  ...  ..   \n",
       "65531     15       11  1111  ...  3    70      Dark  False    ♂   ♂    ♂   ♂   \n",
       "65532     15       12  1110  ...  3    70      Dark  False    ♂   ♂    ♂   ♂   \n",
       "65533     15       13  1111  ...  3    70      Dark  False    ♂   ♂    ♂   ♂   \n",
       "65534     15       14  1110  ...  3    70      Dark  False    ♂   ♂    ♂   ♂   \n",
       "65535     15       15  1111  ...  3    70      Dark  False    ♂   ♂    ♂   ♂   \n",
       "\n",
       "      3:1 1:0  \n",
       "0       ♀   ♀  \n",
       "1       ♀   ♀  \n",
       "2       ♀   ♀  \n",
       "3       ♀   ♀  \n",
       "4       ♀   ♀  \n",
       "...    ..  ..  \n",
       "65531   ♂   ♀  \n",
       "65532   ♂   ♀  \n",
       "65533   ♂   ♀  \n",
       "65534   ♂   ♀  \n",
       "65535   ♂   ♀  \n",
       "\n",
       "[65536 rows x 23 columns]"
      ]
     },
     "execution_count": 3,
     "metadata": {},
     "output_type": "execute_result"
    }
   ],
   "source": [
    "table"
   ]
  },
  {
   "cell_type": "markdown",
   "id": "9964bd42",
   "metadata": {},
   "source": [
    "## A little bit on Shininess\n",
    "The shiny property is determine by the DVs, so with this DB we can perform some related statistics"
   ]
  },
  {
   "cell_type": "markdown",
   "id": "4bbf2f33",
   "metadata": {},
   "source": [
    "### Getting the probability\n",
    "For this, we need to just take the mean over the Shiny column"
   ]
  },
  {
   "cell_type": "code",
   "execution_count": 4,
   "id": "85f3f141",
   "metadata": {},
   "outputs": [
    {
     "data": {
      "text/plain": [
       "0.0001220703125"
      ]
     },
     "execution_count": 4,
     "metadata": {},
     "output_type": "execute_result"
    }
   ],
   "source": [
    "table[\"Shiny\"].mean()"
   ]
  },
  {
   "cell_type": "markdown",
   "id": "896b6200",
   "metadata": {},
   "source": [
    "### Now the frequency"
   ]
  },
  {
   "cell_type": "code",
   "execution_count": 5,
   "id": "402eaef2",
   "metadata": {},
   "outputs": [
    {
     "data": {
      "text/plain": [
       "8192.0"
      ]
     },
     "execution_count": 5,
     "metadata": {},
     "output_type": "execute_result"
    }
   ],
   "source": [
    "1 / table[\"Shiny\"].mean()"
   ]
  },
  {
   "cell_type": "code",
   "execution_count": 6,
   "id": "5aac4368",
   "metadata": {},
   "outputs": [
    {
     "data": {
      "text/plain": [
       "8192"
      ]
     },
     "execution_count": 6,
     "metadata": {},
     "output_type": "execute_result"
    }
   ],
   "source": [
    "2 ** (13)"
   ]
  },
  {
   "cell_type": "code",
   "execution_count": 7,
   "id": "664b07ba",
   "metadata": {},
   "outputs": [
    {
     "data": {
      "text/plain": [
       "8"
      ]
     },
     "execution_count": 7,
     "metadata": {},
     "output_type": "execute_result"
    }
   ],
   "source": [
    "table[\"Shiny\"].sum()"
   ]
  },
  {
   "cell_type": "code",
   "execution_count": 8,
   "id": "5ed1f1fe",
   "metadata": {},
   "outputs": [
    {
     "data": {
      "text/plain": [
       "8"
      ]
     },
     "execution_count": 8,
     "metadata": {},
     "output_type": "execute_result"
    }
   ],
   "source": [
    "2 ** 3"
   ]
  },
  {
   "cell_type": "code",
   "execution_count": 9,
   "id": "76e2101a",
   "metadata": {},
   "outputs": [
    {
     "data": {
      "text/plain": [
       "16.0"
      ]
     },
     "execution_count": 9,
     "metadata": {},
     "output_type": "execute_result"
    }
   ],
   "source": [
    "np.log(len(table)) / np.log(2)"
   ]
  },
  {
   "cell_type": "code",
   "execution_count": 10,
   "id": "3d5f93d0",
   "metadata": {},
   "outputs": [
    {
     "data": {
      "text/plain": [
       "8192"
      ]
     },
     "execution_count": 10,
     "metadata": {},
     "output_type": "execute_result"
    }
   ],
   "source": [
    "2 ** (16 - 3)"
   ]
  },
  {
   "cell_type": "markdown",
   "id": "6c1cf66e",
   "metadata": {},
   "source": [
    "So, in average, every 8192 randomly generated pokémon 1 should be shiny.\n",
    "\n",
    "This is not the same as the probability to find at least one shiny in the 8192th encounter. To compute this, is very useful to use the theorem of total probability, since find at least one shiny is the complement of not finding any $1 - p_{shiny}$.\n",
    "\n",
    "If we try $8192$ times, then is just a Bernoulli experiment, so to not find any shiny in those encounters would be the product if such probability that amount of times, $\\left(1 - p_{shiny}\\right)^{8192}$ \n",
    "\n",
    "Now we need to calculate the complement and is done\n",
    "\n",
    "$$1 - \\left(1 - p_{shiny}\\right)^{8192} = 1 - \\left(1 - \\frac{1}{8192}\\right)^{8192} = 63.214\\%$$"
   ]
  },
  {
   "cell_type": "code",
   "execution_count": 11,
   "id": "1c4c34a0",
   "metadata": {},
   "outputs": [
    {
     "data": {
      "text/plain": [
       "0.6321430135498485"
      ]
     },
     "execution_count": 11,
     "metadata": {},
     "output_type": "execute_result"
    }
   ],
   "source": [
    "1 - (1 - 1 / 8192) ** 8192"
   ]
  },
  {
   "cell_type": "markdown",
   "id": "3a99d414",
   "metadata": {},
   "source": [
    "### How unlicky am I?\n",
    "In this section I just calculated the approximatly amount of encounters to get a specific probability of getting at least one shiny, so if you have done more than 37724 and have not find a shiny yet, you are unlucky (this is less than 1% likely).\n",
    "\n",
    "<ins>**Note**</ins>: I'm not saying that after 10000, 20000, or whatever number of encounters you've already done your probability to get a shiny in the next encounter it is going to be higher, the probability is the same in every encounter!\n",
    "Assuming that would be a case of the Gambler's fallacy (https://en.wikipedia.org/wiki/Gambler%27s_fallacy), I'm just saying that in the big picture you are being unlucky."
   ]
  },
  {
   "cell_type": "markdown",
   "id": "752e634d",
   "metadata": {},
   "source": [
    "$$ 1 - \\left(1 - p_{shiny}\\right) ^ n = p$$\n",
    "$$ \\left(1 - p_{shiny}\\right) ^ n = 1 - p$$\n",
    "$$ n \\cdot log\\left(1 - p_{shiny}\\right) = log\\left(1 - p\\right)$$\n",
    "$$ n = \\frac{log\\left(1 - p\\right)}{log\\left(1 - p_{shiny}\\right)} $$\n"
   ]
  },
  {
   "cell_type": "code",
   "execution_count": 12,
   "id": "90115b5e",
   "metadata": {},
   "outputs": [
    {
     "data": {
      "text/plain": [
       "[5677.915122505303,\n",
       " 8191.999999999998,\n",
       " 18861.62576583619,\n",
       " 24539.540888341482,\n",
       " 37723.25153167237,\n",
       " 56584.87729750855]"
      ]
     },
     "execution_count": 12,
     "metadata": {},
     "output_type": "execute_result"
    }
   ],
   "source": [
    "ps = np.array([0.5, 0.6321430135498485, 0.9, 0.95, 0.99, 0.999])\n",
    "ns = np.log(1 - ps) / np.log(1 - 1 / 8192)\n",
    "list(ns)"
   ]
  },
  {
   "cell_type": "markdown",
   "id": "122eed47",
   "metadata": {},
   "source": [
    "### Gender Ratio\n",
    "Gender is also determine by DVs so maybe there is a relation with shininess, let's see...\n",
    "\n",
    "Below I perform some statistics around gender ratio and shininess, and showing something well known by the comunity, that there is no female shinnies for pokémon with a gender ratio of 1:7\n",
    "#### Absolute Frequency"
   ]
  },
  {
   "cell_type": "code",
   "execution_count": 13,
   "id": "22f6a34a",
   "metadata": {},
   "outputs": [
    {
     "data": {
      "text/html": [
       "<div>\n",
       "<style scoped>\n",
       "    .dataframe tbody tr th:only-of-type {\n",
       "        vertical-align: middle;\n",
       "    }\n",
       "\n",
       "    .dataframe tbody tr th {\n",
       "        vertical-align: top;\n",
       "    }\n",
       "\n",
       "    .dataframe thead th {\n",
       "        text-align: right;\n",
       "    }\n",
       "</style>\n",
       "<table border=\"1\" class=\"dataframe\">\n",
       "  <thead>\n",
       "    <tr style=\"text-align: right;\">\n",
       "      <th></th>\n",
       "      <th>0:1</th>\n",
       "      <th>1:7</th>\n",
       "      <th>1:3</th>\n",
       "      <th>1:1</th>\n",
       "      <th>3:1</th>\n",
       "      <th>1:0</th>\n",
       "    </tr>\n",
       "  </thead>\n",
       "  <tbody>\n",
       "    <tr>\n",
       "      <th>♀</th>\n",
       "      <td>0.0</td>\n",
       "      <td>0.0</td>\n",
       "      <td>2</td>\n",
       "      <td>4</td>\n",
       "      <td>6</td>\n",
       "      <td>8.0</td>\n",
       "    </tr>\n",
       "    <tr>\n",
       "      <th>♂</th>\n",
       "      <td>8.0</td>\n",
       "      <td>8.0</td>\n",
       "      <td>6</td>\n",
       "      <td>4</td>\n",
       "      <td>2</td>\n",
       "      <td>0.0</td>\n",
       "    </tr>\n",
       "  </tbody>\n",
       "</table>\n",
       "</div>"
      ],
      "text/plain": [
       "   0:1  1:7  1:3  1:1  3:1  1:0\n",
       "♀  0.0  0.0    2    4    6  8.0\n",
       "♂  8.0  8.0    6    4    2  0.0"
      ]
     },
     "execution_count": 13,
     "metadata": {},
     "output_type": "execute_result"
    }
   ],
   "source": [
    "table[table[\"Shiny\"]][list(genders_male_th)].apply(pd.value_counts).fillna(0)"
   ]
  },
  {
   "cell_type": "markdown",
   "id": "b68a2ff4",
   "metadata": {},
   "source": [
    "#### Relative Frequency"
   ]
  },
  {
   "cell_type": "code",
   "execution_count": 14,
   "id": "0e09bc39",
   "metadata": {},
   "outputs": [
    {
     "data": {
      "text/html": [
       "<div>\n",
       "<style scoped>\n",
       "    .dataframe tbody tr th:only-of-type {\n",
       "        vertical-align: middle;\n",
       "    }\n",
       "\n",
       "    .dataframe tbody tr th {\n",
       "        vertical-align: top;\n",
       "    }\n",
       "\n",
       "    .dataframe thead th {\n",
       "        text-align: right;\n",
       "    }\n",
       "</style>\n",
       "<table border=\"1\" class=\"dataframe\">\n",
       "  <thead>\n",
       "    <tr style=\"text-align: right;\">\n",
       "      <th></th>\n",
       "      <th>0:1</th>\n",
       "      <th>1:7</th>\n",
       "      <th>1:3</th>\n",
       "      <th>1:1</th>\n",
       "      <th>3:1</th>\n",
       "      <th>1:0</th>\n",
       "    </tr>\n",
       "  </thead>\n",
       "  <tbody>\n",
       "    <tr>\n",
       "      <th>♀</th>\n",
       "      <td>0.0</td>\n",
       "      <td>0.0</td>\n",
       "      <td>0.25</td>\n",
       "      <td>0.5</td>\n",
       "      <td>0.75</td>\n",
       "      <td>1.0</td>\n",
       "    </tr>\n",
       "    <tr>\n",
       "      <th>♂</th>\n",
       "      <td>1.0</td>\n",
       "      <td>1.0</td>\n",
       "      <td>0.75</td>\n",
       "      <td>0.5</td>\n",
       "      <td>0.25</td>\n",
       "      <td>0.0</td>\n",
       "    </tr>\n",
       "  </tbody>\n",
       "</table>\n",
       "</div>"
      ],
      "text/plain": [
       "   0:1  1:7   1:3  1:1   3:1  1:0\n",
       "♀  0.0  0.0  0.25  0.5  0.75  1.0\n",
       "♂  1.0  1.0  0.75  0.5  0.25  0.0"
      ]
     },
     "execution_count": 14,
     "metadata": {},
     "output_type": "execute_result"
    }
   ],
   "source": [
    "table[table[\"Shiny\"]][list(genders_male_th)].apply(partial(pd.value_counts, normalize=True)).fillna(0)"
   ]
  },
  {
   "cell_type": "markdown",
   "id": "84be34c6",
   "metadata": {},
   "source": [
    "Only the 1:7 ratio do not match with it's own shiny probability, even though there is 8 different DV cases for shiny pokémon, that clearly is divisible by 8"
   ]
  },
  {
   "cell_type": "markdown",
   "id": "909557fa",
   "metadata": {},
   "source": [
    "### About Hidden Power and other Stats\n",
    "The type and the base power of Hidden Power is also determine by DVs and knowing that only 8 DVs are shiny and there is 16 different types, there are at least some types that are not mapped :("
   ]
  },
  {
   "cell_type": "code",
   "execution_count": 15,
   "id": "813aa942",
   "metadata": {},
   "outputs": [
    {
     "data": {
      "text/html": [
       "<div>\n",
       "<style scoped>\n",
       "    .dataframe tbody tr th:only-of-type {\n",
       "        vertical-align: middle;\n",
       "    }\n",
       "\n",
       "    .dataframe tbody tr th {\n",
       "        vertical-align: top;\n",
       "    }\n",
       "\n",
       "    .dataframe thead th {\n",
       "        text-align: right;\n",
       "    }\n",
       "</style>\n",
       "<table border=\"1\" class=\"dataframe\">\n",
       "  <thead>\n",
       "    <tr style=\"text-align: right;\">\n",
       "      <th></th>\n",
       "      <th></th>\n",
       "      <th>0</th>\n",
       "    </tr>\n",
       "    <tr>\n",
       "      <th>HP_BP</th>\n",
       "      <th>HP_Type</th>\n",
       "      <th></th>\n",
       "    </tr>\n",
       "  </thead>\n",
       "  <tbody>\n",
       "    <tr>\n",
       "      <th rowspan=\"2\" valign=\"top\">50</th>\n",
       "      <th>Dragon</th>\n",
       "      <td>2</td>\n",
       "    </tr>\n",
       "    <tr>\n",
       "      <th>Grass</th>\n",
       "      <td>2</td>\n",
       "    </tr>\n",
       "    <tr>\n",
       "      <th rowspan=\"2\" valign=\"top\">70</th>\n",
       "      <th>Dragon</th>\n",
       "      <td>2</td>\n",
       "    </tr>\n",
       "    <tr>\n",
       "      <th>Grass</th>\n",
       "      <td>2</td>\n",
       "    </tr>\n",
       "  </tbody>\n",
       "</table>\n",
       "</div>"
      ],
      "text/plain": [
       "               0\n",
       "HP_BP HP_Type   \n",
       "50    Dragon   2\n",
       "      Grass    2\n",
       "70    Dragon   2\n",
       "      Grass    2"
      ]
     },
     "execution_count": 15,
     "metadata": {},
     "output_type": "execute_result"
    }
   ],
   "source": [
    "pd.DataFrame(table[table[\"Shiny\"]].groupby([\"HP_BP\", \"HP_Type\"])[[\"HP_BP\", \"HP_Type\"]].value_counts())"
   ]
  },
  {
   "cell_type": "markdown",
   "id": "7a856f7b",
   "metadata": {},
   "source": [
    "Actually, a shiny pokémon only can have either Dragon or Grass HP Type with equal probability $P\\left(\\left.HP_{Type}=Grass\\right|Shiny\\right) = P\\left(\\left.HP_{Type}=Dragon\\right|Shiny\\right) = 1 / 2$\n",
    "\n",
    "Looking in more detail we can confirm that shiny pokémon, specially the ones with HP type being Grass, have bad stats :/"
   ]
  },
  {
   "cell_type": "code",
   "execution_count": 16,
   "id": "c014926d",
   "metadata": {},
   "outputs": [
    {
     "data": {
      "text/html": [
       "<div>\n",
       "<style scoped>\n",
       "    .dataframe tbody tr th:only-of-type {\n",
       "        vertical-align: middle;\n",
       "    }\n",
       "\n",
       "    .dataframe tbody tr th {\n",
       "        vertical-align: top;\n",
       "    }\n",
       "\n",
       "    .dataframe thead th {\n",
       "        text-align: right;\n",
       "    }\n",
       "</style>\n",
       "<table border=\"1\" class=\"dataframe\">\n",
       "  <thead>\n",
       "    <tr style=\"text-align: right;\">\n",
       "      <th></th>\n",
       "      <th>DVs</th>\n",
       "      <th>Attackb</th>\n",
       "      <th>Defenseb</th>\n",
       "      <th>Speedb</th>\n",
       "      <th>Specialb</th>\n",
       "      <th>Attack</th>\n",
       "      <th>Defense</th>\n",
       "      <th>Speed</th>\n",
       "      <th>Special</th>\n",
       "      <th>HPb</th>\n",
       "      <th>HP</th>\n",
       "      <th>Letter</th>\n",
       "      <th>X</th>\n",
       "      <th>Y</th>\n",
       "      <th>HP_BP</th>\n",
       "      <th>HP_Type</th>\n",
       "    </tr>\n",
       "  </thead>\n",
       "  <tbody>\n",
       "    <tr>\n",
       "      <th>10922</th>\n",
       "      <td>10101010101010</td>\n",
       "      <td>10</td>\n",
       "      <td>1010</td>\n",
       "      <td>1010</td>\n",
       "      <td>1010</td>\n",
       "      <td>2</td>\n",
       "      <td>10</td>\n",
       "      <td>10</td>\n",
       "      <td>10</td>\n",
       "      <td>0</td>\n",
       "      <td>0</td>\n",
       "      <td>I</td>\n",
       "      <td>7</td>\n",
       "      <td>3</td>\n",
       "      <td>50</td>\n",
       "      <td>Grass</td>\n",
       "    </tr>\n",
       "    <tr>\n",
       "      <th>15018</th>\n",
       "      <td>11101010101010</td>\n",
       "      <td>11</td>\n",
       "      <td>1010</td>\n",
       "      <td>1010</td>\n",
       "      <td>1010</td>\n",
       "      <td>3</td>\n",
       "      <td>10</td>\n",
       "      <td>10</td>\n",
       "      <td>10</td>\n",
       "      <td>1000</td>\n",
       "      <td>8</td>\n",
       "      <td>I</td>\n",
       "      <td>7</td>\n",
       "      <td>3</td>\n",
       "      <td>50</td>\n",
       "      <td>Dragon</td>\n",
       "    </tr>\n",
       "    <tr>\n",
       "      <th>27306</th>\n",
       "      <td>110101010101010</td>\n",
       "      <td>110</td>\n",
       "      <td>1010</td>\n",
       "      <td>1010</td>\n",
       "      <td>1010</td>\n",
       "      <td>6</td>\n",
       "      <td>10</td>\n",
       "      <td>10</td>\n",
       "      <td>10</td>\n",
       "      <td>0</td>\n",
       "      <td>0</td>\n",
       "      <td>V</td>\n",
       "      <td>7</td>\n",
       "      <td>3</td>\n",
       "      <td>50</td>\n",
       "      <td>Grass</td>\n",
       "    </tr>\n",
       "    <tr>\n",
       "      <th>31402</th>\n",
       "      <td>111101010101010</td>\n",
       "      <td>111</td>\n",
       "      <td>1010</td>\n",
       "      <td>1010</td>\n",
       "      <td>1010</td>\n",
       "      <td>7</td>\n",
       "      <td>10</td>\n",
       "      <td>10</td>\n",
       "      <td>10</td>\n",
       "      <td>1000</td>\n",
       "      <td>8</td>\n",
       "      <td>V</td>\n",
       "      <td>7</td>\n",
       "      <td>3</td>\n",
       "      <td>50</td>\n",
       "      <td>Dragon</td>\n",
       "    </tr>\n",
       "    <tr>\n",
       "      <th>43690</th>\n",
       "      <td>1010101010101010</td>\n",
       "      <td>1010</td>\n",
       "      <td>1010</td>\n",
       "      <td>1010</td>\n",
       "      <td>1010</td>\n",
       "      <td>10</td>\n",
       "      <td>10</td>\n",
       "      <td>10</td>\n",
       "      <td>10</td>\n",
       "      <td>0</td>\n",
       "      <td>0</td>\n",
       "      <td>I</td>\n",
       "      <td>15</td>\n",
       "      <td>3</td>\n",
       "      <td>70</td>\n",
       "      <td>Grass</td>\n",
       "    </tr>\n",
       "    <tr>\n",
       "      <th>47786</th>\n",
       "      <td>1011101010101010</td>\n",
       "      <td>1011</td>\n",
       "      <td>1010</td>\n",
       "      <td>1010</td>\n",
       "      <td>1010</td>\n",
       "      <td>11</td>\n",
       "      <td>10</td>\n",
       "      <td>10</td>\n",
       "      <td>10</td>\n",
       "      <td>1000</td>\n",
       "      <td>8</td>\n",
       "      <td>I</td>\n",
       "      <td>15</td>\n",
       "      <td>3</td>\n",
       "      <td>70</td>\n",
       "      <td>Dragon</td>\n",
       "    </tr>\n",
       "    <tr>\n",
       "      <th>60074</th>\n",
       "      <td>1110101010101010</td>\n",
       "      <td>1110</td>\n",
       "      <td>1010</td>\n",
       "      <td>1010</td>\n",
       "      <td>1010</td>\n",
       "      <td>14</td>\n",
       "      <td>10</td>\n",
       "      <td>10</td>\n",
       "      <td>10</td>\n",
       "      <td>0</td>\n",
       "      <td>0</td>\n",
       "      <td>V</td>\n",
       "      <td>15</td>\n",
       "      <td>3</td>\n",
       "      <td>70</td>\n",
       "      <td>Grass</td>\n",
       "    </tr>\n",
       "    <tr>\n",
       "      <th>64170</th>\n",
       "      <td>1111101010101010</td>\n",
       "      <td>1111</td>\n",
       "      <td>1010</td>\n",
       "      <td>1010</td>\n",
       "      <td>1010</td>\n",
       "      <td>15</td>\n",
       "      <td>10</td>\n",
       "      <td>10</td>\n",
       "      <td>10</td>\n",
       "      <td>1000</td>\n",
       "      <td>8</td>\n",
       "      <td>V</td>\n",
       "      <td>15</td>\n",
       "      <td>3</td>\n",
       "      <td>70</td>\n",
       "      <td>Dragon</td>\n",
       "    </tr>\n",
       "  </tbody>\n",
       "</table>\n",
       "</div>"
      ],
      "text/plain": [
       "                    DVs  Attackb  Defenseb  Speedb  Specialb  Attack  Defense  \\\n",
       "10922    10101010101010       10      1010    1010      1010       2       10   \n",
       "15018    11101010101010       11      1010    1010      1010       3       10   \n",
       "27306   110101010101010      110      1010    1010      1010       6       10   \n",
       "31402   111101010101010      111      1010    1010      1010       7       10   \n",
       "43690  1010101010101010     1010      1010    1010      1010      10       10   \n",
       "47786  1011101010101010     1011      1010    1010      1010      11       10   \n",
       "60074  1110101010101010     1110      1010    1010      1010      14       10   \n",
       "64170  1111101010101010     1111      1010    1010      1010      15       10   \n",
       "\n",
       "       Speed  Special   HPb  HP Letter   X  Y  HP_BP HP_Type  \n",
       "10922     10       10     0   0      I   7  3     50   Grass  \n",
       "15018     10       10  1000   8      I   7  3     50  Dragon  \n",
       "27306     10       10     0   0      V   7  3     50   Grass  \n",
       "31402     10       10  1000   8      V   7  3     50  Dragon  \n",
       "43690     10       10     0   0      I  15  3     70   Grass  \n",
       "47786     10       10  1000   8      I  15  3     70  Dragon  \n",
       "60074     10       10     0   0      V  15  3     70   Grass  \n",
       "64170     10       10  1000   8      V  15  3     70  Dragon  "
      ]
     },
     "execution_count": 16,
     "metadata": {},
     "output_type": "execute_result"
    }
   ],
   "source": [
    "table[table[\"Shiny\"]].sort_values([\"Attack\"])[table.columns[:-7]]"
   ]
  },
  {
   "cell_type": "markdown",
   "id": "3ee1e888",
   "metadata": {},
   "source": [
    "At least the Power Base of their HP is not that low, 70 it is the maximum value!"
   ]
  },
  {
   "cell_type": "code",
   "execution_count": 17,
   "id": "05db2cf2",
   "metadata": {},
   "outputs": [
    {
     "data": {
      "image/png": "[encoded data removed]",
      "text/plain": [
       "<Figure size 1500x1000 with 1 Axes>"
      ]
     },
     "metadata": {},
     "output_type": "display_data"
    }
   ],
   "source": [
    "plt.figure(figsize=(15, 10))\n",
    "plt.hist(table[\"HP_BP\"], ec=\"black\", zorder=3, bins=len(table[\"HP_BP\"].unique()))\n",
    "plt.title(\"Absolute Frequency of the Base Power of Hidden Power for each different DV distribution\")\n",
    "plt.grid(zorder=0)\n",
    "plt.show()"
   ]
  },
  {
   "cell_type": "markdown",
   "id": "c0ad2762",
   "metadata": {},
   "source": [
    "It is evident that is not possible to get a perfect DV shiny pokémon, but which one is rarer?\n",
    "\n",
    "To get a max Attack pokémon we need to encounter in average 16 different ones"
   ]
  },
  {
   "cell_type": "code",
   "execution_count": 18,
   "id": "1edbef24",
   "metadata": {},
   "outputs": [
    {
     "data": {
      "text/plain": [
       "16.0"
      ]
     },
     "execution_count": 18,
     "metadata": {},
     "output_type": "execute_result"
    }
   ],
   "source": [
    "1 / (table[\"Attack\"]==15).mean()"
   ]
  },
  {
   "cell_type": "markdown",
   "id": "9dfb4651",
   "metadata": {},
   "source": [
    "And if we take into account Defense, Speed and the Special DVs?"
   ]
  },
  {
   "cell_type": "code",
   "execution_count": 19,
   "id": "a7afb0db",
   "metadata": {},
   "outputs": [
    {
     "data": {
      "text/plain": [
       "65536.0"
      ]
     },
     "execution_count": 19,
     "metadata": {},
     "output_type": "execute_result"
    }
   ],
   "source": [
    "1 / ((table[\"Attack\"]==15) & (table[\"Defense\"]==15) & (table[\"Speed\"]==15) & (table[\"Special\"]==15)).mean()"
   ]
  },
  {
   "cell_type": "markdown",
   "id": "90d76298",
   "metadata": {},
   "source": [
    "Ouch! But make sense since only one row should be the perfect one\n",
    "\n",
    "Wait! And HP?"
   ]
  },
  {
   "cell_type": "code",
   "execution_count": 20,
   "id": "981798c5",
   "metadata": {},
   "outputs": [
    {
     "data": {
      "text/plain": [
       "65536.0"
      ]
     },
     "execution_count": 20,
     "metadata": {},
     "output_type": "execute_result"
    }
   ],
   "source": [
    "1 / ((table[\"Attack\"]==15) & (table[\"Defense\"]==15) & (table[\"Speed\"]==15) & (table[\"Special\"]==15) & (table[\"HP\"]==15)).mean()\n"
   ]
  },
  {
   "cell_type": "markdown",
   "id": "a6240d9d",
   "metadata": {},
   "source": [
    "What? Why did not change? You may be confused, but HP (Health Points) are determine by the other 4 DVs hehehehe, but thankfully the one those 4 are perfect so is it the HP"
   ]
  },
  {
   "cell_type": "code",
   "execution_count": 21,
   "id": "b014104a",
   "metadata": {},
   "outputs": [
    {
     "data": {
      "text/plain": [
       "8.0"
      ]
     },
     "execution_count": 21,
     "metadata": {},
     "output_type": "execute_result"
    }
   ],
   "source": [
    "table[\"Shiny\"].mean() / ((table[\"Attack\"]==15) & (table[\"Defense\"]==15) & (table[\"Speed\"]==15) & (table[\"Special\"]==15)).mean()\n"
   ]
  },
  {
   "cell_type": "markdown",
   "id": "26a2ea43",
   "metadata": {},
   "source": [
    "So, it is 8 times more common to find a shiny than a perfect DV pokémon"
   ]
  },
  {
   "cell_type": "markdown",
   "id": "0a8c73c5",
   "metadata": {},
   "source": [
    "## Unown"
   ]
  },
  {
   "cell_type": "code",
   "execution_count": 22,
   "id": "1dbf80c9",
   "metadata": {},
   "outputs": [
    {
     "data": {
      "text/html": [
       "<div>\n",
       "<style scoped>\n",
       "    .dataframe tbody tr th:only-of-type {\n",
       "        vertical-align: middle;\n",
       "    }\n",
       "\n",
       "    .dataframe tbody tr th {\n",
       "        vertical-align: top;\n",
       "    }\n",
       "\n",
       "    .dataframe thead th {\n",
       "        text-align: right;\n",
       "    }\n",
       "</style>\n",
       "<table border=\"1\" class=\"dataframe\">\n",
       "  <thead>\n",
       "    <tr style=\"text-align: right;\">\n",
       "      <th></th>\n",
       "      <th>Shiny</th>\n",
       "    </tr>\n",
       "    <tr>\n",
       "      <th>Letter</th>\n",
       "      <th></th>\n",
       "    </tr>\n",
       "  </thead>\n",
       "  <tbody>\n",
       "    <tr>\n",
       "      <th>A</th>\n",
       "      <td>0</td>\n",
       "    </tr>\n",
       "    <tr>\n",
       "      <th>B</th>\n",
       "      <td>0</td>\n",
       "    </tr>\n",
       "    <tr>\n",
       "      <th>C</th>\n",
       "      <td>0</td>\n",
       "    </tr>\n",
       "    <tr>\n",
       "      <th>D</th>\n",
       "      <td>0</td>\n",
       "    </tr>\n",
       "    <tr>\n",
       "      <th>E</th>\n",
       "      <td>0</td>\n",
       "    </tr>\n",
       "    <tr>\n",
       "      <th>F</th>\n",
       "      <td>0</td>\n",
       "    </tr>\n",
       "    <tr>\n",
       "      <th>G</th>\n",
       "      <td>0</td>\n",
       "    </tr>\n",
       "    <tr>\n",
       "      <th>H</th>\n",
       "      <td>0</td>\n",
       "    </tr>\n",
       "    <tr>\n",
       "      <th>I</th>\n",
       "      <td>4</td>\n",
       "    </tr>\n",
       "    <tr>\n",
       "      <th>J</th>\n",
       "      <td>0</td>\n",
       "    </tr>\n",
       "    <tr>\n",
       "      <th>K</th>\n",
       "      <td>0</td>\n",
       "    </tr>\n",
       "    <tr>\n",
       "      <th>L</th>\n",
       "      <td>0</td>\n",
       "    </tr>\n",
       "    <tr>\n",
       "      <th>M</th>\n",
       "      <td>0</td>\n",
       "    </tr>\n",
       "    <tr>\n",
       "      <th>N</th>\n",
       "      <td>0</td>\n",
       "    </tr>\n",
       "    <tr>\n",
       "      <th>O</th>\n",
       "      <td>0</td>\n",
       "    </tr>\n",
       "    <tr>\n",
       "      <th>P</th>\n",
       "      <td>0</td>\n",
       "    </tr>\n",
       "    <tr>\n",
       "      <th>Q</th>\n",
       "      <td>0</td>\n",
       "    </tr>\n",
       "    <tr>\n",
       "      <th>R</th>\n",
       "      <td>0</td>\n",
       "    </tr>\n",
       "    <tr>\n",
       "      <th>S</th>\n",
       "      <td>0</td>\n",
       "    </tr>\n",
       "    <tr>\n",
       "      <th>T</th>\n",
       "      <td>0</td>\n",
       "    </tr>\n",
       "    <tr>\n",
       "      <th>U</th>\n",
       "      <td>0</td>\n",
       "    </tr>\n",
       "    <tr>\n",
       "      <th>V</th>\n",
       "      <td>4</td>\n",
       "    </tr>\n",
       "    <tr>\n",
       "      <th>W</th>\n",
       "      <td>0</td>\n",
       "    </tr>\n",
       "    <tr>\n",
       "      <th>X</th>\n",
       "      <td>0</td>\n",
       "    </tr>\n",
       "    <tr>\n",
       "      <th>Y</th>\n",
       "      <td>0</td>\n",
       "    </tr>\n",
       "    <tr>\n",
       "      <th>Z</th>\n",
       "      <td>0</td>\n",
       "    </tr>\n",
       "  </tbody>\n",
       "</table>\n",
       "</div>"
      ],
      "text/plain": [
       "        Shiny\n",
       "Letter       \n",
       "A           0\n",
       "B           0\n",
       "C           0\n",
       "D           0\n",
       "E           0\n",
       "F           0\n",
       "G           0\n",
       "H           0\n",
       "I           4\n",
       "J           0\n",
       "K           0\n",
       "L           0\n",
       "M           0\n",
       "N           0\n",
       "O           0\n",
       "P           0\n",
       "Q           0\n",
       "R           0\n",
       "S           0\n",
       "T           0\n",
       "U           0\n",
       "V           4\n",
       "W           0\n",
       "X           0\n",
       "Y           0\n",
       "Z           0"
      ]
     },
     "execution_count": 22,
     "metadata": {},
     "output_type": "execute_result"
    }
   ],
   "source": [
    "pd.DataFrame(table.groupby(\"Letter\")[\"Shiny\"].sum())"
   ]
  },
  {
   "cell_type": "code",
   "execution_count": 23,
   "id": "cd01f9af",
   "metadata": {},
   "outputs": [
    {
     "data": {
      "text/html": [
       "<div>\n",
       "<style scoped>\n",
       "    .dataframe tbody tr th:only-of-type {\n",
       "        vertical-align: middle;\n",
       "    }\n",
       "\n",
       "    .dataframe tbody tr th {\n",
       "        vertical-align: top;\n",
       "    }\n",
       "\n",
       "    .dataframe thead th {\n",
       "        text-align: right;\n",
       "    }\n",
       "</style>\n",
       "<table border=\"1\" class=\"dataframe\">\n",
       "  <thead>\n",
       "    <tr style=\"text-align: right;\">\n",
       "      <th></th>\n",
       "      <th>Letter</th>\n",
       "    </tr>\n",
       "  </thead>\n",
       "  <tbody>\n",
       "    <tr>\n",
       "      <th>I</th>\n",
       "      <td>4</td>\n",
       "    </tr>\n",
       "    <tr>\n",
       "      <th>V</th>\n",
       "      <td>4</td>\n",
       "    </tr>\n",
       "  </tbody>\n",
       "</table>\n",
       "</div>"
      ],
      "text/plain": [
       "   Letter\n",
       "I       4\n",
       "V       4"
      ]
     },
     "execution_count": 23,
     "metadata": {},
     "output_type": "execute_result"
    }
   ],
   "source": [
    "pd.DataFrame(table[table[\"Shiny\"]][\"Letter\"].value_counts())"
   ]
  },
  {
   "cell_type": "code",
   "execution_count": 24,
   "id": "672bb197",
   "metadata": {},
   "outputs": [
    {
     "data": {
      "text/plain": [
       "3200.0"
      ]
     },
     "execution_count": 24,
     "metadata": {},
     "output_type": "execute_result"
    }
   ],
   "source": [
    "1 / table[table[\"Letter\"].isin([\"S\", \"T\", \"U\", \"V\", \"W\"])][\"Shiny\"].mean()"
   ]
  },
  {
   "cell_type": "code",
   "execution_count": 25,
   "id": "ce4fba1f",
   "metadata": {},
   "outputs": [
    {
     "data": {
      "text/plain": [
       "3200.0"
      ]
     },
     "execution_count": 25,
     "metadata": {},
     "output_type": "execute_result"
    }
   ],
   "source": [
    "2 ** 13 * (50 / 256) * (2 / 1)"
   ]
  },
  {
   "cell_type": "code",
   "execution_count": 26,
   "id": "fbd44067",
   "metadata": {},
   "outputs": [
    {
     "data": {
      "text/plain": [
       "2.56"
      ]
     },
     "execution_count": 26,
     "metadata": {},
     "output_type": "execute_result"
    }
   ],
   "source": [
    "table[table[\"Letter\"].isin([\"S\", \"T\", \"U\", \"V\", \"W\"])][\"Shiny\"].mean() / table[\"Shiny\"].mean()"
   ]
  },
  {
   "cell_type": "code",
   "execution_count": 27,
   "id": "66e5aa39",
   "metadata": {},
   "outputs": [
    {
     "data": {
      "text/plain": [
       "7040.0"
      ]
     },
     "execution_count": 27,
     "metadata": {},
     "output_type": "execute_result"
    }
   ],
   "source": [
    "1 / table[table[\"Letter\"].isin([\"A\", \"B\", \"C\", \"D\", \"E\", \"F\", \"G\", \"H\", \"I\", \"J\", \"K\"])][\"Shiny\"].mean()"
   ]
  },
  {
   "cell_type": "code",
   "execution_count": 28,
   "id": "fb5332d8",
   "metadata": {},
   "outputs": [
    {
     "data": {
      "text/plain": [
       "7040.0"
      ]
     },
     "execution_count": 28,
     "metadata": {},
     "output_type": "execute_result"
    }
   ],
   "source": [
    "2 ** 13 * (110 / 256) * (2 / 1)"
   ]
  },
  {
   "cell_type": "code",
   "execution_count": 29,
   "id": "4e26793b",
   "metadata": {},
   "outputs": [
    {
     "data": {
      "text/plain": [
       "1.1636363636363636"
      ]
     },
     "execution_count": 29,
     "metadata": {},
     "output_type": "execute_result"
    }
   ],
   "source": [
    "table[table[\"Letter\"].isin([\"A\", \"B\", \"C\", \"D\", \"E\", \"F\", \"G\", \"H\", \"I\", \"J\", \"K\"])][\"Shiny\"].mean() / table[\"Shiny\"].mean()\n"
   ]
  },
  {
   "cell_type": "code",
   "execution_count": 30,
   "id": "925d18c3",
   "metadata": {},
   "outputs": [
    {
     "data": {
      "text/html": [
       "<div>\n",
       "<style scoped>\n",
       "    .dataframe tbody tr th:only-of-type {\n",
       "        vertical-align: middle;\n",
       "    }\n",
       "\n",
       "    .dataframe tbody tr th {\n",
       "        vertical-align: top;\n",
       "    }\n",
       "\n",
       "    .dataframe thead th {\n",
       "        text-align: right;\n",
       "    }\n",
       "</style>\n",
       "<table border=\"1\" class=\"dataframe\">\n",
       "  <thead>\n",
       "    <tr style=\"text-align: right;\">\n",
       "      <th></th>\n",
       "      <th></th>\n",
       "      <th></th>\n",
       "      <th>Shiny</th>\n",
       "    </tr>\n",
       "    <tr>\n",
       "      <th>Letter</th>\n",
       "      <th>HP_BP</th>\n",
       "      <th>HP_Type</th>\n",
       "      <th></th>\n",
       "    </tr>\n",
       "  </thead>\n",
       "  <tbody>\n",
       "    <tr>\n",
       "      <th rowspan=\"4\" valign=\"top\">I</th>\n",
       "      <th rowspan=\"2\" valign=\"top\">50</th>\n",
       "      <th>Dragon</th>\n",
       "      <td>1</td>\n",
       "    </tr>\n",
       "    <tr>\n",
       "      <th>Grass</th>\n",
       "      <td>1</td>\n",
       "    </tr>\n",
       "    <tr>\n",
       "      <th rowspan=\"2\" valign=\"top\">70</th>\n",
       "      <th>Dragon</th>\n",
       "      <td>1</td>\n",
       "    </tr>\n",
       "    <tr>\n",
       "      <th>Grass</th>\n",
       "      <td>1</td>\n",
       "    </tr>\n",
       "    <tr>\n",
       "      <th rowspan=\"4\" valign=\"top\">V</th>\n",
       "      <th rowspan=\"2\" valign=\"top\">50</th>\n",
       "      <th>Dragon</th>\n",
       "      <td>1</td>\n",
       "    </tr>\n",
       "    <tr>\n",
       "      <th>Grass</th>\n",
       "      <td>1</td>\n",
       "    </tr>\n",
       "    <tr>\n",
       "      <th rowspan=\"2\" valign=\"top\">70</th>\n",
       "      <th>Dragon</th>\n",
       "      <td>1</td>\n",
       "    </tr>\n",
       "    <tr>\n",
       "      <th>Grass</th>\n",
       "      <td>1</td>\n",
       "    </tr>\n",
       "  </tbody>\n",
       "</table>\n",
       "</div>"
      ],
      "text/plain": [
       "                      Shiny\n",
       "Letter HP_BP HP_Type       \n",
       "I      50    Dragon       1\n",
       "             Grass        1\n",
       "       70    Dragon       1\n",
       "             Grass        1\n",
       "V      50    Dragon       1\n",
       "             Grass        1\n",
       "       70    Dragon       1\n",
       "             Grass        1"
      ]
     },
     "execution_count": 30,
     "metadata": {},
     "output_type": "execute_result"
    }
   ],
   "source": [
    "pd.DataFrame(table[table[\"Shiny\"]].groupby([\"Letter\", \"HP_BP\", \"HP_Type\"])[\"Shiny\"].count())"
   ]
  },
  {
   "cell_type": "code",
   "execution_count": 31,
   "id": "e0b85555",
   "metadata": {},
   "outputs": [
    {
     "data": {
      "text/plain": [
       "65535    Z\n",
       "Name: Letter, dtype: object"
      ]
     },
     "execution_count": 31,
     "metadata": {},
     "output_type": "execute_result"
    }
   ],
   "source": [
    "table[((table[\"Attack\"]==15) & (table[\"Defense\"]==15) & (table[\"Speed\"]==15) & (table[\"Special\"]==15))][\"Letter\"]"
   ]
  },
  {
   "cell_type": "code",
   "execution_count": 32,
   "id": "43dd2de0",
   "metadata": {},
   "outputs": [
    {
     "data": {
      "text/plain": [
       "1536"
      ]
     },
     "execution_count": 32,
     "metadata": {},
     "output_type": "execute_result"
    }
   ],
   "source": [
    "(table[\"Letter\"] == \"Z\").sum()"
   ]
  },
  {
   "cell_type": "code",
   "execution_count": 33,
   "id": "ed86ba25",
   "metadata": {},
   "outputs": [
    {
     "data": {
      "text/plain": [
       "6656"
      ]
     },
     "execution_count": 33,
     "metadata": {},
     "output_type": "execute_result"
    }
   ],
   "source": [
    "table[\"Letter\"].isin([\"X\", \"Y\", \"Z\"]).sum()"
   ]
  },
  {
   "cell_type": "markdown",
   "id": "76014672",
   "metadata": {},
   "source": [
    "It is more probable, even in the best scenario for each case, to get a shiny unown than a perfect one"
   ]
  },
  {
   "cell_type": "code",
   "execution_count": 34,
   "id": "ddf88d7f",
   "metadata": {},
   "outputs": [
    {
     "data": {
      "text/html": [
       "<div>\n",
       "<style scoped>\n",
       "    .dataframe tbody tr th:only-of-type {\n",
       "        vertical-align: middle;\n",
       "    }\n",
       "\n",
       "    .dataframe tbody tr th {\n",
       "        vertical-align: top;\n",
       "    }\n",
       "\n",
       "    .dataframe thead th {\n",
       "        text-align: right;\n",
       "    }\n",
       "</style>\n",
       "<table border=\"1\" class=\"dataframe\">\n",
       "  <thead>\n",
       "    <tr style=\"text-align: right;\">\n",
       "      <th></th>\n",
       "      <th>DVs</th>\n",
       "      <th>Attackb</th>\n",
       "      <th>Defenseb</th>\n",
       "      <th>Speedb</th>\n",
       "      <th>Specialb</th>\n",
       "      <th>Attack</th>\n",
       "      <th>Defense</th>\n",
       "      <th>Speed</th>\n",
       "      <th>Special</th>\n",
       "      <th>HPb</th>\n",
       "      <th>HP</th>\n",
       "      <th>Letter</th>\n",
       "      <th>X</th>\n",
       "      <th>Y</th>\n",
       "      <th>HP_BP</th>\n",
       "      <th>HP_Type</th>\n",
       "    </tr>\n",
       "  </thead>\n",
       "  <tbody>\n",
       "    <tr>\n",
       "      <th>65535</th>\n",
       "      <td>1111111111111111</td>\n",
       "      <td>1111</td>\n",
       "      <td>1111</td>\n",
       "      <td>1111</td>\n",
       "      <td>1111</td>\n",
       "      <td>15</td>\n",
       "      <td>15</td>\n",
       "      <td>15</td>\n",
       "      <td>15</td>\n",
       "      <td>1111</td>\n",
       "      <td>15</td>\n",
       "      <td>Z</td>\n",
       "      <td>15</td>\n",
       "      <td>3</td>\n",
       "      <td>70</td>\n",
       "      <td>Dark</td>\n",
       "    </tr>\n",
       "  </tbody>\n",
       "</table>\n",
       "</div>"
      ],
      "text/plain": [
       "                    DVs  Attackb  Defenseb  Speedb  Specialb  Attack  Defense  \\\n",
       "65535  1111111111111111     1111      1111    1111      1111      15       15   \n",
       "\n",
       "       Speed  Special   HPb  HP Letter   X  Y  HP_BP HP_Type  \n",
       "65535     15       15  1111  15      Z  15  3     70    Dark  "
      ]
     },
     "execution_count": 34,
     "metadata": {},
     "output_type": "execute_result"
    }
   ],
   "source": [
    "table[((table[\"Attack\"]==15) & (table[\"Defense\"]==15) & (table[\"Speed\"]==15) & (table[\"Special\"]==15))][table.columns[:-7]]"
   ]
  },
  {
   "cell_type": "code",
   "execution_count": null,
   "id": "f166f29d",
   "metadata": {},
   "outputs": [],
   "source": []
  }
 ],
 "metadata": {
  "kernelspec": {
   "display_name": "Python 3 (ipykernel)",
   "language": "python",
   "name": "python3"
  },
  "language_info": {
   "codemirror_mode": {
    "name": "ipython",
    "version": 3
   },
   "file_extension": ".py",
   "mimetype": "text/x-python",
   "name": "python",
   "nbconvert_exporter": "python",
   "pygments_lexer": "ipython3",
   "version": "3.11.4"
  }
 },
 "nbformat": 4,
 "nbformat_minor": 5
}
